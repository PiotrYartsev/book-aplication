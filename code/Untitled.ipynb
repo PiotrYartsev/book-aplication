{
 "cells": [
  {
   "cell_type": "code",
   "execution_count": 1,
   "metadata": {},
   "outputs": [],
   "source": [
    "import shutil\n",
    "import os\n",
    "import matplotlib.pyplot\n",
    "import re\n",
    "import PyPDF2\n",
    "from string import digits\n",
    "import nltk\n",
    "from nltk.collocations import *\n",
    "import subprocess"
   ]
  },
  {
   "cell_type": "code",
   "execution_count": 2,
   "metadata": {},
   "outputs": [],
   "source": [
    "import textract\n",
    "import re\n",
    "text = textract.process('/home/piotr/Desktop/Books/Programming/Python 2019 Pack/Clean Code in Python/PDF/PDF.pdf')\n",
    "\n",
    "#text.replace(\"\\n\",\" \")"
   ]
  },
  {
   "cell_type": "code",
   "execution_count": 3,
   "metadata": {},
   "outputs": [],
   "source": [
    "words_from_book=text.decode(\"utf-8\")\n",
    "\n",
    "words_from_book.replace(\"\\n\",\" \")\n",
    "words_from_book222=words_from_book\n"
   ]
  },
  {
   "cell_type": "code",
   "execution_count": 4,
   "metadata": {},
   "outputs": [
    {
     "name": "stdout",
     "output_type": "stream",
     "text": [
      "object function method code chapter test class design python return\n"
     ]
    }
   ],
   "source": [
    "\n",
    "words_from_book222.replace(\"\\n\",\" \")\n",
    "words_from_book222.replace(\"\\x0c\",\" \")\n",
    "\n",
    "\n",
    "remove_digits = str.maketrans('', '', digits)\n",
    "words_from_book222 = words_from_book222.translate(remove_digits)\n",
    "\n",
    "words_from_book222=str(words_from_book222)\n",
    "\n",
    "f = open('/home/piotr/Desktop/book_application/tag-generator/data/test','w')\n",
    "f.write(words_from_book222)\n",
    "f.close()\n",
    "\n",
    "commands = '''\n",
    "cd\n",
    "cd /home/piotr/Desktop/book_application/tag-generator/\n",
    "python3 tagger.py 10\n",
    "'''\n",
    "\n",
    "process = subprocess.Popen('/bin/bash', stdin=subprocess.PIPE, stdout=subprocess.PIPE)\n",
    "out, err = process.communicate(commands.encode('utf-8'))\n",
    "\n",
    "\n",
    "out2=out.decode('utf-8').replace('The likeky tags for the document are:', '')\n",
    "out2=out2.replace(\"[\",\"\")\n",
    "out2=out2.replace(\"]\",\"\")\n",
    "out2=out2.replace(\"'\",\"\")\n",
    "out2=out2.replace(\",\",\"\")\n",
    "out2=out2.replace(\"\\n\",\"\")\n",
    "print(out2)\n",
    "li = list(out2.split(\" \")) "
   ]
  },
  {
   "cell_type": "code",
   "execution_count": 5,
   "metadata": {},
   "outputs": [
    {
     "data": {
      "text/plain": [
       "['object',\n",
       " 'function',\n",
       " 'method',\n",
       " 'code',\n",
       " 'chapter',\n",
       " 'test',\n",
       " 'class',\n",
       " 'design',\n",
       " 'python',\n",
       " 'return']"
      ]
     },
     "execution_count": 5,
     "metadata": {},
     "output_type": "execute_result"
    }
   ],
   "source": [
    "li"
   ]
  },
  {
   "cell_type": "code",
   "execution_count": null,
   "metadata": {},
   "outputs": [],
   "source": []
  },
  {
   "cell_type": "code",
   "execution_count": null,
   "metadata": {},
   "outputs": [],
   "source": []
  }
 ],
 "metadata": {
  "kernelspec": {
   "display_name": "Python 3",
   "language": "python",
   "name": "python3"
  },
  "language_info": {
   "codemirror_mode": {
    "name": "ipython",
    "version": 3
   },
   "file_extension": ".py",
   "mimetype": "text/x-python",
   "name": "python",
   "nbconvert_exporter": "python",
   "pygments_lexer": "ipython3",
   "version": "3.7.3"
  }
 },
 "nbformat": 4,
 "nbformat_minor": 2
}
